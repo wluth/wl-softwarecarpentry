{
 "cells": [
  {
   "cell_type": "code",
   "execution_count": 57,
   "metadata": {
    "collapsed": false
   },
   "outputs": [
    {
     "data": {
      "text/plain": [
       "'\\nWhile taking a class on the culture of China, you have learned about the Chinese zodiac in which people fall into 1 of 12 categories, depending on the year of their birth. The categories, numbered 0 to 11, correspond to the following animals:\\n\\n(0) monkey\\n(1) rooster\\n(2) dog\\n(3) pig\\n(4) rat\\n(5) ox\\n(6) tiger\\n(7) rabbit\\n(8) dragon\\n(9) snake\\n(10) horse\\n(11) goat\\n\\nThose who believe in this zodiac think that the year of a person\\'s birth influences both their personality and fortune in life.\\n\\nYour task is to build a program that will ask a user for their birth year and tell them their zodiac sign.  If the user does not enter a number that can be interpreted as a year then an error message must be shown and the user given another chance.  If the user types \"quit\" then the program halts.\\n\\nFor extra credit: save each year that is input to a file and print a chart showing how many of each type or animal have been returned.\\n\\nTo find your zodiac sign, divide the year of your birth by 12. The remainder then determines your sign. For example: The remainder when we divide 1985 by 12, is 5; therefore, a person born in 1985 is an ox according to the Chinese zodiac.\\n'"
      ]
     },
     "execution_count": 57,
     "metadata": {},
     "output_type": "execute_result"
    }
   ],
   "source": [
    "\"\"\"\n",
    "While taking a class on the culture of China, you have learned about the Chinese zodiac in which people fall into 1 of 12 categories, depending on the year of their birth. The categories, numbered 0 to 11, correspond to the following animals:\n",
    "\n",
    "(0) monkey\n",
    "(1) rooster\n",
    "(2) dog\n",
    "(3) pig\n",
    "(4) rat\n",
    "(5) ox\n",
    "(6) tiger\n",
    "(7) rabbit\n",
    "(8) dragon\n",
    "(9) snake\n",
    "(10) horse\n",
    "(11) goat\n",
    "\n",
    "Those who believe in this zodiac think that the year of a person's birth influences both their personality and fortune in life.\n",
    "\n",
    "Your task is to build a program that will ask a user for their birth year and tell them their zodiac sign.  If the user does not enter a number that can be interpreted as a year then an error message must be shown and the user given another chance.  If the user types \"quit\" then the program halts.\n",
    "\n",
    "For extra credit: save each year that is input to a file and print a chart showing how many of each type or animal have been returned.\n",
    "\n",
    "To find your zodiac sign, divide the year of your birth by 12. The remainder then determines your sign. For example: The remainder when we divide 1985 by 12, is 5; therefore, a person born in 1985 is an ox according to the Chinese zodiac.\n",
    "\"\"\""
   ]
  },
  {
   "cell_type": "code",
   "execution_count": 8,
   "metadata": {
    "collapsed": false
   },
   "outputs": [
    {
     "name": "stdout",
     "output_type": "stream",
     "text": [
      "What year were you born? 1990\n",
      "Your Chinese Zodiac animal is Horse\n",
      "\n",
      "What year were you born? sja\n",
      "You did not provide a year in the form of an integer.\n"
     ]
    }
   ],
   "source": [
    "# We are going to plan the program here.\n",
    "\n",
    "# ZodiacSetup will do all the opening, loading and closing of files/data.\n",
    "# Will retrun ZodiacList\n",
    "def ZodiacSetup():\n",
    "    # Class: Open the zodiac descriptions file\n",
    "    ZodiacText = open('zodiacDescriptions.txt', 'r')\n",
    "    # WL: open 'filename', options ('r' = read only, 'w'= write)\n",
    "    # WL: default break up for files in python is lines. Default for strings of text is character.\n",
    "    # WL: comment out print lines used to check each step\n",
    "    # Every for loop needs some actions associated with it (indented afterwards). If actions in the\n",
    "    # for loop are commented out, then the for loop also needs to be commented out.\n",
    "    # Class: Read/Load the zodiac descriptions file. To do this, make a list with each line of file\n",
    "    # as a list item.\n",
    "    ZodiacList = []\n",
    "    for animal in ZodiacText:\n",
    "        ZodiacList.append(animal)\n",
    "    # Class: Close the zodiac descriptions file as soon as we're done with it\n",
    "    ZodiacText.close()\n",
    "\n",
    "    return (ZodiacList)\n",
    "\n",
    "#WL: Putting each step on a different line for easier readable and easier to follow\n",
    "#zodiacCalculation will collect birthyear and determine zodiac sign and then display. \n",
    "# With error tracking.\n",
    "# Will return birthYear\n",
    "def zodiacCalculation():\n",
    "    birthYear = input(\"What year were you born? \")\n",
    "    try:\n",
    "        birthYear = int(birthYear)\n",
    "        ZodiacIndex = birthYear % 12\n",
    "        print(\"Your Chinese Zodiac animal is\", zodiacList[ZodiacIndex - 4])\n",
    "\n",
    "    # special conditional like IF    \n",
    "    except ValueError:\n",
    "        # birthYear = 'null' <- works but not clean\n",
    "        print('You did not provide a year in the form of an integer.')\n",
    "\n",
    "    return birthYear\n",
    "# Class: Repeat\n",
    "\n",
    "zodiacList = ZodiacSetup()\n",
    "\n",
    "birthYear = 0\n",
    "while type(birthYear) is int:\n",
    "    birthYear = zodiacCalculation()\n",
    "\n",
    "# type will tell you what kind of variable a variable is\n",
    "\n",
    "# WL: Can tab to autocomplete variables.\n",
    "# WL: Close files as soon as you're done with them, because it forces the program to save stuff."
   ]
  },
  {
   "cell_type": "code",
   "execution_count": null,
   "metadata": {
    "collapsed": true
   },
   "outputs": [],
   "source": []
  },
  {
   "cell_type": "code",
   "execution_count": null,
   "metadata": {
    "collapsed": true
   },
   "outputs": [],
   "source": []
  }
 ],
 "metadata": {
  "kernelspec": {
   "display_name": "Python 3",
   "language": "python",
   "name": "python3"
  },
  "language_info": {
   "codemirror_mode": {
    "name": "ipython",
    "version": 3
   },
   "file_extension": ".py",
   "mimetype": "text/x-python",
   "name": "python",
   "nbconvert_exporter": "python",
   "pygments_lexer": "ipython3",
   "version": "3.4.3"
  }
 },
 "nbformat": 4,
 "nbformat_minor": 0
}
